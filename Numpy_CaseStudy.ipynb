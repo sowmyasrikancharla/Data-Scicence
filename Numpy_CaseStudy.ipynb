{
 "cells": [
  {
   "cell_type": "code",
   "execution_count": 1,
   "id": "7c5a9b38",
   "metadata": {},
   "outputs": [
    {
     "name": "stdout",
     "output_type": "stream",
     "text": [
      "[1 2 3 4 5] \n",
      "\n",
      "[[1 2 3]\n",
      " [4 5 6]] \n",
      "\n",
      "[[0. 0. 0. 0.]\n",
      " [0. 0. 0. 0.]\n",
      " [0. 0. 0. 0.]] \n",
      "\n",
      "[[1. 1.]\n",
      " [1. 1.]]\n"
     ]
    }
   ],
   "source": [
    "import numpy as np\n",
    "\n",
    "# create a 1-dimensional array \n",
    "a=np.array([1, 2, 3, 4, 5]) #converting a list into an array \n",
    "print(a,'\\n')\n",
    "\n",
    "# create a 2-dimensional array \n",
    "b = np.array([[1, 2, 3], [4, 5, 6]]) #Multidimensional array\n",
    "print(b,'\\n')\n",
    "\n",
    "#create an array of zeros \n",
    "c = np.zeros((3, 4)) #Zero matrix\n",
    "print(c,'\\n') \n",
    "\n",
    "# create an array of ones \n",
    "d = np.ones((2, 2)) #ones matrix\n",
    "print(d) "
   ]
  },
  {
   "cell_type": "code",
   "execution_count": 2,
   "id": "46f13012",
   "metadata": {},
   "outputs": [
    {
     "name": "stdout",
     "output_type": "stream",
     "text": [
      "[1 2 3 4 5] \n",
      "\n",
      "[[11 23 35]\n",
      " [47 59 63]] \n",
      "\n",
      "[[0. 0. 0. 0. 0. 0.]\n",
      " [0. 0. 0. 0. 0. 0.]] \n",
      "\n",
      "[[1. 1. 1. 1. 1.]\n",
      " [1. 1. 1. 1. 1.]\n",
      " [1. 1. 1. 1. 1.]\n",
      " [1. 1. 1. 1. 1.]]\n"
     ]
    }
   ],
   "source": [
    "import numpy as np\n",
    "\n",
    "# create a 1-dimensional array \n",
    "a=np.array([1, 2, 3, 4, 5]) #converting a list into an array \n",
    "print(a,'\\n')\n",
    "\n",
    "# create a 2-dimensional array \n",
    "b = np.array([[11, 23, 35], [47, 59, 63]]) #Multidimensional array\n",
    "print(b,'\\n')\n",
    "\n",
    "#create an array of zeros \n",
    "c = np.zeros((2, 6)) #Zero matrix\n",
    "print(c,'\\n') \n",
    "\n",
    "# create an array of ones \n",
    "d = np.ones((4, 5)) #ones matrix\n",
    "print(d) "
   ]
  },
  {
   "cell_type": "code",
   "execution_count": 3,
   "id": "d3f232d4",
   "metadata": {},
   "outputs": [
    {
     "name": "stdout",
     "output_type": "stream",
     "text": [
      "[5 7 9] \n",
      "\n",
      "[[ 5 12]\n",
      " [21 32]] \n",
      "\n",
      "[[19 22]\n",
      " [43 50]]\n"
     ]
    }
   ],
   "source": [
    "# add two arrays\n",
    "\n",
    "a=np.array([1, 2, 3])\n",
    "\n",
    "b=np.array([4, 5, 6])\n",
    "\n",
    "c = a + b #adding two arrays so that every individual element in both arrays can be added\n",
    "\n",
    "print(c,'\\n')\n",
    "\n",
    "# multiply two arrays.\n",
    "\n",
    "d=np.array([[1, 2], [3, 4]]) \n",
    "\n",
    "e=np.array([[5, 6], [7, 8]])\n",
    "f = d * e #Multiplying two arrays\n",
    "\n",
    "print(f,'\\n')\n",
    "\n",
    "# perform matrix multiplication\n",
    "\n",
    "g=np.array([[1, 2], [3, 4]]) \n",
    "h=np.array([[5, 6], [7, 8]])\n",
    "\n",
    "i=np.dot (g, h) #dot product of two arrays\n",
    "\n",
    "print(i)"
   ]
  },
  {
   "cell_type": "code",
   "execution_count": 4,
   "id": "097e5850",
   "metadata": {},
   "outputs": [
    {
     "name": "stdout",
     "output_type": "stream",
     "text": [
      "[ 58  81 100] \n",
      "\n",
      "[[ 50  72]\n",
      " [ 98 128]] \n",
      "\n",
      "[[134 156]\n",
      " [182 212]]\n"
     ]
    }
   ],
   "source": [
    "# add two arrays\n",
    "\n",
    "a=np.array([15, 27, 39])\n",
    "\n",
    "b=np.array([43, 54, 61])\n",
    "\n",
    "c = a + b #adding two arrays so that every individual element in both arrays can be added\n",
    "\n",
    "print(c,'\\n')\n",
    "\n",
    "# multiply two arrays.\n",
    "\n",
    "d=np.array([[5, 6], [7, 8]]) \n",
    "\n",
    "e=np.array([[10, 12], [14, 16]])\n",
    "f = d * e #Multiplying two arrays\n",
    "\n",
    "print(f,'\\n')\n",
    "\n",
    "# perform matrix multiplication\n",
    "\n",
    "g=np.array([[5, 6], [7, 8]]) \n",
    "h=np.array([[10, 12], [14, 16]])\n",
    "\n",
    "i=np.dot (g, h) #dot product of two arrays\n",
    "\n",
    "print(i)"
   ]
  }
 ],
 "metadata": {
  "kernelspec": {
   "display_name": "Python 3 (ipykernel)",
   "language": "python",
   "name": "python3"
  },
  "language_info": {
   "codemirror_mode": {
    "name": "ipython",
    "version": 3
   },
   "file_extension": ".py",
   "mimetype": "text/x-python",
   "name": "python",
   "nbconvert_exporter": "python",
   "pygments_lexer": "ipython3",
   "version": "3.10.9"
  }
 },
 "nbformat": 4,
 "nbformat_minor": 5
}
